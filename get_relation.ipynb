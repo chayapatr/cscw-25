{
 "cells": [
  {
   "cell_type": "code",
   "execution_count": null,
   "metadata": {},
   "outputs": [],
   "source": [
    "prompt = \"\"\"Convert research statements about human-AI interaction into structured causal relationships using this format:\n",
    "\n",
    "[subject:cause, relationship, subject:effect]\n",
    "\n",
    "Relationship Types (Choose ONE):\n",
    "- ENHANCES/DIMINISHES\n",
    "  - For impacts on performance, capability, or quality\n",
    "  - Example: [AI explanations, ENHANCES, user understanding]\n",
    "- INCREASES/DECREASES\n",
    "  - For measurable changes or quantifiable effects\n",
    "  - Example: [AI assistance, INCREASES, labeling accuracy by 29%]\n",
    "- INFLUENCES\n",
    "  - For complex relationships affecting perceptions, behaviors, or attitudes\n",
    "  - Example: [AI embodiment, INFLUENCES, perceived intelligence]\n",
    "\n",
    "Rules:\n",
    "Cause element should be one of:\n",
    "- AI feature/capability (e.g., \"AI responsiveness\", \"generative AI tools\")\n",
    "- User characteristic (e.g., \"user beliefs\", \"perceived credibility\")\n",
    "- System property (e.g., \"model accuracy\", \"training data\")\n",
    "\n",
    "Effect element should capture:\n",
    "- Human response/perception\n",
    "- System performance\n",
    "- Interaction outcome\n",
    "- User behavior\n",
    "\n",
    "Guidelines:\n",
    "- Prioritize specific over general relationships\n",
    "- Include quantitative metrics when present\n",
    "- - Maintain clear causation direction\n",
    "- Focus on primary relationship when multiple exists\"\"\""
   ]
  }
 ],
 "metadata": {
  "language_info": {
   "name": "python"
  }
 },
 "nbformat": 4,
 "nbformat_minor": 2
}
