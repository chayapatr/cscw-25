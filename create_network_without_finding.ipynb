{
 "cells": [
  {
   "cell_type": "code",
   "execution_count": 1,
   "metadata": {},
   "outputs": [],
   "source": [
    "import pandas as pd\n",
    "import networkx as nx\n",
    "import ast\n",
    "import json\n",
    "\n",
    "data = pd.read_csv('data/small.csv')"
   ]
  },
  {
   "cell_type": "code",
   "execution_count": 2,
   "metadata": {},
   "outputs": [],
   "source": [
    "doi_list = data['doi'].to_list()\n",
    "\n",
    "def get_name(doi):\n",
    "    return data.loc[data['doi'] == doi].title.values[0]"
   ]
  },
  {
   "cell_type": "code",
   "execution_count": 6,
   "metadata": {},
   "outputs": [],
   "source": [
    "G = nx.DiGraph()\n",
    "for i in range(len(data)):\n",
    "    paper = data.iloc[i]\n",
    "    G.add_node(f\"{paper['doi']}\", name=get_name(paper['doi']), kind=\"paper\", year=paper['year'].item())\n",
    "\n",
    "# add literal references\n",
    "for i in range(len(data)):\n",
    "    paper = data.iloc[i]\n",
    "    references = ast.literal_eval(paper.references)\n",
    "    for ref in references:\n",
    "        if(ref in doi_list):\n",
    "            # (f\"{paper.doi}\", f\"{ref}\", kind=\"paper\")\n",
    "            G.add_edge(f\"{paper.doi}\", f\"{ref}\", kind=\"paper\")"
   ]
  },
  {
   "cell_type": "code",
   "execution_count": 7,
   "metadata": {},
   "outputs": [],
   "source": [
    "graph_data = nx.node_link_data(G, edges=\"edges\")\n",
    "with open('small.json', 'w') as f:\n",
    "    f.write(json.dumps(graph_data))"
   ]
  }
 ],
 "metadata": {
  "kernelspec": {
   "display_name": ".venv",
   "language": "python",
   "name": "python3"
  },
  "language_info": {
   "codemirror_mode": {
    "name": "ipython",
    "version": 3
   },
   "file_extension": ".py",
   "mimetype": "text/x-python",
   "name": "python",
   "nbconvert_exporter": "python",
   "pygments_lexer": "ipython3",
   "version": "3.12.5"
  }
 },
 "nbformat": 4,
 "nbformat_minor": 2
}
