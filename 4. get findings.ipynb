{
 "cells": [
  {
   "cell_type": "code",
   "execution_count": null,
   "id": "08cdf6ba",
   "metadata": {},
   "outputs": [],
   "source": [
    "from openai import OpenAI\n",
    "from pydantic import BaseModel\n",
    "import functions.prompts as prompts\n",
    "import functions.llm as llm\n",
    "import functions.fetch as fetch\n",
    "import pandas as pd\n",
    "from openai.lib._parsing._completions import type_to_response_format_param\n",
    "\n",
    "import importlib\n",
    "importlib.reload(llm)\n",
    "importlib.reload(prompts)\n",
    "importlib.reload(fetch)\n",
    "\n",
    "client = OpenAI()"
   ]
  },
  {
   "cell_type": "code",
   "execution_count": null,
   "id": "83be5f07",
   "metadata": {},
   "outputs": [],
   "source": [
    "class Note(BaseModel):\n",
    "    type: str\n",
    "    description: str\n",
    "\n",
    "class AbstractSummary(BaseModel):\n",
    "    keywords: list[str]\n",
    "    summaries: list[str]\n",
    "    note: Note"
   ]
  },
  {
   "cell_type": "code",
   "execution_count": null,
   "id": "9f83d24e",
   "metadata": {},
   "outputs": [],
   "source": [
    "df = pd.read_csv(\"./data/abstract/abstract.csv\")\n",
    "\n",
    "reqs = []\n",
    "for i, row in df.iterrows():\n",
    "    reqs.append(llm.wrap(f\"paper-{i}\", {\n",
    "        \"model\": \"o3-mini\",\n",
    "        \"messages\": [{\n",
    "            \"role\": \"system\",\n",
    "            \"content\": prompts.findings\n",
    "        }, {\n",
    "            \"role\": \"user\",\n",
    "            \"content\": row.title + \"\\n\" + row.abstract\n",
    "        }],\n",
    "        \"response_format\": type_to_response_format_param(AbstractSummary)\n",
    "    }))\n",
    "\n",
    "req_json_path = \"data/findings/req.jsonl\"\n",
    "llm.gen_batch_jsonl(req_json_path, reqs)"
   ]
  },
  {
   "cell_type": "code",
   "execution_count": null,
   "id": "b33bf739",
   "metadata": {},
   "outputs": [],
   "source": [
    "batch_input_file = client.files.create(\n",
    "    file=open(req_json_path, \"rb\"),\n",
    "    purpose=\"batch\"\n",
    ")\n",
    "\n",
    "print(f\"File ID: {batch_input_file.id}\")\n",
    "\n",
    "batch_object = client.batches.create(\n",
    "    input_file_id=batch_input_file.id,\n",
    "    endpoint=\"/v1/chat/completions\",\n",
    "    completion_window=\"24h\",\n",
    "    metadata={\n",
    "        \"description\": f\"Atlas of Human-AI Interaction\"\n",
    "    }\n",
    ")\n",
    "\n",
    "print(f\"Batch ID: {batch_object.id}\")\n",
    "\n",
    "fetch.save(f\"File ID: {batch_input_file.id} \\nBatch ID: {batch_object.id}\", \"data/findings/req_file_id.txt\")"
   ]
  },
  {
   "cell_type": "code",
   "execution_count": null,
   "id": "28eef3d2",
   "metadata": {},
   "outputs": [],
   "source": [
    "client.batches.retrieve(batch_object.id)"
   ]
  }
 ],
 "metadata": {
  "kernelspec": {
   "display_name": ".venv",
   "language": "python",
   "name": "python3"
  },
  "language_info": {
   "codemirror_mode": {
    "name": "ipython",
    "version": 3
   },
   "file_extension": ".py",
   "mimetype": "text/x-python",
   "name": "python",
   "nbconvert_exporter": "python",
   "pygments_lexer": "ipython3",
   "version": "3.13.1"
  }
 },
 "nbformat": 4,
 "nbformat_minor": 5
}
