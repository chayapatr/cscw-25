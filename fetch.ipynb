{
 "cells": [
  {
   "cell_type": "code",
   "execution_count": 71,
   "metadata": {},
   "outputs": [],
   "source": [
    "import requests\n",
    "from bs4 import BeautifulSoup\n",
    "\n",
    "papers = []"
   ]
  },
  {
   "cell_type": "code",
   "execution_count": 72,
   "metadata": {},
   "outputs": [],
   "source": [
    "def parse_doi(doi):\n",
    "    a = doi[16:]\n",
    "    if(a[0] == 'b'):\n",
    "        a = a[5:]\n",
    "    return a\n",
    "\n",
    "def extract_papers(page):\n",
    "    filtered_content_type = ['extended-abstract', 'research-article', 'Work in Progress', 'poster', 'short-paper']\n",
    "    soap = BeautifulSoup(page.text, 'html.parser')\n",
    "\n",
    "    for entry in soap.find_all(\"li\", attrs={\"class\": \"issue-item-container\"}):\n",
    "        title = entry.find('h5', attrs={'class': 'issue-item__title'}).text\n",
    "        content_type = entry.find('div', attrs={'class': 'issue-heading'})\n",
    "        # doi = parse_doi(entry.find('a')['href'])\n",
    "        doi = entry.find(\"a\", attrs={'class': 'issue-item__doi'})\n",
    "        # years = entry.find('div', attrs={'class': ['bookPubDate', 'simple-tooltip__block--b']})\n",
    "        if(content_type.text in filtered_content_type and doi != None):\n",
    "            papers.append({\n",
    "            \"title\": title,\n",
    "            \"doi\": parse_doi(doi.get('href'))})"
   ]
  },
  {
   "cell_type": "code",
   "execution_count": 73,
   "metadata": {},
   "outputs": [
    {
     "name": "stdout",
     "output_type": "stream",
     "text": [
      "Get page 0\n"
     ]
    }
   ],
   "source": [
    "for i in range(1):\n",
    "    print(f\"Get page {i}\")\n",
    "    page = requests.get(f\"https://dl.acm.org/action/doSearch?AllField=%22human-ai+interaction%22&startPage={i}&pageSize=100\")\n",
    "    extract_papers(page)"
   ]
  },
  {
   "cell_type": "code",
   "execution_count": 75,
   "metadata": {},
   "outputs": [],
   "source": [
    "def get_data_from_semantic_scholar(doi):\n",
    "    base_url = \"https://api.semanticscholar.org/v1/paper/\"\n",
    "    url = f\"{base_url}{doi}\"\n",
    "    headers = {\"Accept\": \"application/json\"}\n",
    "\n",
    "    try:\n",
    "        response = requests.get(url, headers=headers)\n",
    "        response.raise_for_status()\n",
    "        data = response.json()\n",
    "        \n",
    "        abstract = data.get('abstract')\n",
    "        year = data.get('year')\n",
    "        references = [ref['doi'] for ref in data.get('references')]\n",
    "        \n",
    "        if abstract:\n",
    "            return [abstract, year, references]\n",
    "        else:\n",
    "            return [\"no abstract\"]\n",
    "    \n",
    "    except requests.exceptions.RequestException as e:\n",
    "        print(e)\n",
    "        return [\"error\"]"
   ]
  },
  {
   "cell_type": "code",
   "execution_count": 76,
   "metadata": {},
   "outputs": [
    {
     "name": "stdout",
     "output_type": "stream",
     "text": [
      "fetching #0: HAID: Human-AI Interaction for Dementia Care\n",
      "fetching #1: Theory of Mind in Human-AI Interaction\n",
      "fetching #2: Assessing Human-AI Interaction Early through Factorial Surveys: A Study on the Guidelines for Human-AI Interaction\n",
      "fetching #3: Spiritual AI: Exploring the Possibilities of a Human-AI Interaction Beyond Productive Goals\n",
      "fetching #4: Development and translation of human-AI interaction models into working prototypes for clinical decision-making\n",
      "fetching #5: Exploration of Explainable AI for Trust Development on Human-AI Interaction\n",
      "fetching #6: Re-examining User Burden in Human-AI Interaction: Focusing on a Domain-Specific Approach\n",
      "fetching #7: A Systematic Review on Fostering Appropriate Trust in Human-AI Interaction: Trends, Opportunities and Challenges\n",
      "fetching #8: Measuring User Experience Inclusivity in Human-AI Interaction via Five User Problem-Solving Styles\n",
      "fetching #9: Human-AI interaction: intermittent, continuous, and proactive\n",
      "fetching #10: Designing for Human-AI Interaction: Comparing Intermittent, Continuous, and Proactive Interactions for a Music Application\n",
      "fetching #11: \"Help Me Help the AI\": Understanding How Explainability Can Support Human-AI Interaction\n",
      "fetching #12: Evaluating Interactive AI: Understanding and Controlling Placebo Effects in Human-AI Interaction\n",
      "fetching #13: AI in Your Mind: Counterbalancing Perceived Agency and Experience in Human-AI Interaction\n",
      "fetching #14: Guidelines for Human-AI Interaction\n",
      "fetching #15: AI as a Child of Mother Earth: Regrounding Human-AI Interaction in Ecological Thinking\n",
      "fetching #16: Playing with Dezgo: Adapting Human-AI Interaction to the Context of Play\n",
      "fetching #17: Interfaces for Explanations in Human-AI Interaction: Proposing a Design Evaluation Approach\n",
      "fetching #18: Trust in Human-AI Interaction: Scoping Out Models, Measures, and Methods\n",
      "fetching #19: Societal-Scale Human-AI Interaction Design? How Hospitals and Companies are Integrating Pervasive Sensing into Mental Healthcare\n",
      "fetching #20: AI Chains: Transparent and Controllable Human-AI Interaction by Chaining Large Language Model Prompts\n",
      "fetching #21: Benefits of Human-AI Interaction for Expert Users Interacting with Prediction Models: a Study on Marathon Running\n",
      "fetching #22: Effects of Communication Directionality and AI Agent Differences in Human-AI Interaction\n",
      "fetching #23: UX Research on Conversational Human-AI Interaction: A Literature Review of the ACM Digital Library\n",
      "fetching #24: Human-AI interaction and ethics of AI: how well are we following the guidelines\n",
      "fetching #25: Forward Reasoning Decision Support: Toward a More Complete View of the Human-AI Interaction Design Space\n",
      "fetching #26: Understanding User Perceptions, Collaborative Experience and User Engagement in Different Human-AI Interaction Designs for Co-Creative Systems\n",
      "fetching #27: Towards Mutual Theory of Mind in Human-AI Interaction: How Language Reflects What Students Perceive About a Virtual Teaching Assistant\n",
      "fetching #28: Re-examining Whether, Why, and How Human-AI Interaction Is Uniquely Difficult to Design\n",
      "fetching #29: The Human in the Infinite Loop: A Case Study on Revealing and Explaining Human-AI Interaction Loop Failures\n",
      "fetching #30: Towards fluid software architectures: bidirectional human-AI interaction\n",
      "fetching #31: How Should AI Systems Talk to Users when Collecting their Personal Information? Effects of Role Framing and Self-Referencing on Human-AI Interaction\n",
      "fetching #32: Human-AI Interaction in Human Resource Management: Understanding Why Employees Resist Algorithmic Evaluation at Workplaces and How to Mitigate Burdens\n",
      "fetching #33: Learning Action Conditions for Automatic Behavior Tree Generation from Human Demonstrations\n",
      "fetching #34: Designing AI with Metaphors: Leveraging Ambiguity and Defamiliarization to Support Design Creativity\n",
      "fetching #35: My Voice as a Daily Reminder: Self-Voice Alarm for Daily Goal Achievement\n",
      "fetching #36: An Evaluation of Situational Autonomy for Human-AI Collaboration in a Shared Workspace Setting\n",
      "fetching #37: Evaluation Tools for Human-AI Interactions Involving Older Adults with Mild Cognitive Impairments\n",
      "fetching #38: Understanding the Dynamics in Creating Domain-Specific AI Design Guidelines: A Case Study of a Leading Digital Finance Company in South Korea\n",
      "fetching #39: The Metacognitive Demands and Opportunities of Generative AI\n",
      "fetching #40: Capturing Humans’ Mental Models of AI: An Item Response Theory Approach\n",
      "fetching #41: Intelligence as Agency\n",
      "fetching #42: HINT: Integration Testing for AI-based features with Humans in the Loop\n",
      "fetching #43: Understanding Students’ Perspectives, Practices, and Challenges of Designing with AI in Special Schools\n",
      "fetching #44: It Seems Smart, but It Acts Stupid: Development of Trust in AI Advice in a Repeated Legal Decision-Making Task\n",
      "fetching #45: Player-AI Interaction: What Neural Network Games Reveal About AI as Play\n",
      "fetching #46: Too Late to be Creative? AI-Empowered Tools in Creative Processes\n",
      "fetching #47: Interpretable, Inclusive, and Immersive Interaction for Ubiquitous AI-infused Physical Systems\n",
      "fetching #48: AlphaDAPR: An AI-based Explainable Expert Support System for Art Therapy\n",
      "fetching #49: In a Quasi-Social Relationship With ChatGPT. An Autoethnography on Engaging With Prompt-Engineered LLM Personas\n",
      "fetching #50: Granting Non-AI Experts Creative Control Over AI Systems\n",
      "fetching #51: Work with AI and Work for AI: Autonomous Vehicle Safety Drivers’ Lived Experiences\n",
      "fetching #52: MyListener: An AI-Mediated Journaling Mobile Application for Alleviating Depression and Loneliness Using Contextual Data\n",
      "fetching #53: Learning Models of Individual Behavior in Chess\n",
      "fetching #54: Exploring the Impact of AI Value Alignment in Collaborative Ideation: Effects on Perception, Ownership, and Output\n",
      "fetching #55: Exploring AI-assisted Ideation and Prototyping for Choreography\n",
      "fetching #56: Unified Framework for Procedural Task Assistants powered by Human Activity Recognition\n",
      "fetching #57: What's the Game, then? Opportunities and Challenges for Runtime Behavior Generation\n",
      "fetching #58: Using human-in-the-loop and explainable AI to envisage new future work practices\n",
      "fetching #59: Designing for Continuous Interaction with Artificial Intelligence Systems\n",
      "fetching #60: Ephemera: Language as a Virus - AI-driven Interactive and Immersive Art Installation\n",
      "fetching #61: Making AI Understandable by Making it Tangible: Exploring the Design Space with Ten Concept Cards\n",
      "fetching #62: Studying Self-Care with Generative AI Tools: Lessons for Design\n",
      "fetching #63: Owning Mistakes Sincerely: Strategies for Mitigating AI Errors\n",
      "fetching #64: Externalizing Vulnerability and Verbalizing Thoughts to More Adequately Evaluate Trust in AI\n",
      "fetching #65: The AI-DEC: A Card-based Design Method for User-centered AI Explanations\n",
      "fetching #66: Learning with AI Assistance: A Path to Better Task Performance or Dependence?\n",
      "fetching #67: An AI-Resilient Text Rendering Technique for Reading and Skimming Documents\n",
      "fetching #68: RELIC: Investigating Large Language Model Responses using Self-Consistency\n",
      "fetching #69: Design, Development, and Deployment of Context-Adaptive AI Systems for Enhanced User Adoption\n",
      "404 Client Error: Not Found for url: https://api.semanticscholar.org/v1/paper/10.1145/3654777.3676430\n",
      "fetching #70: ComPeer: A Generative Conversational Agent for Proactive Peer Support\n",
      "fetching #71: ExpressEdit: Video Editing with Natural Language and Sketching\n",
      "fetching #72: AI-to-Human Actuation: Boosting Unmodified AI's Robustness by Proactively Inducing Favorable Human Sensing Conditions\n",
      "fetching #73: \"We Are Visual Thinkers, Not Verbal Thinkers!\": A Thematic Analysis of How Professional Designers Use Generative AI Image Generation Tools\n",
      "fetching #74: Architecting Novel Interactions with Generative AI Models\n",
      "fetching #75: Situated Analytics Process and Mantra\n",
      "fetching #76: Designing Generative AI User Interfaces for Automobiles\n",
      "fetching #77: Social Sensemaking with AI: Designing an Open-ended AI Experience with a Blind Child\n",
      "fetching #78: Workshop: Designing with AI-based tools\n",
      "fetching #79: Why Do Skimmers Perform Better with Grammar-Preserving Text Saliency Modulation (GP-TSM)? Evidence from an Eye Tracking Study\n",
      "fetching #80: Seamful XAI: Operationalizing Seamful Design in Explainable AI\n",
      "fetching #81: ProactiveAgent: Personalized Context-Aware Reminder System\n",
      "fetching #82: FINER: Enhancing State-of-the-art Classifiers with Feature Attribution to Facilitate Security Analysis\n",
      "fetching #83: Does More Advice Help? The Effects of Second Opinions in AI-Assisted Decision Making\n",
      "fetching #84: VR-based Assistance System for Semi-Autonomous Robotic Boats\n"
     ]
    }
   ],
   "source": [
    "import pandas as pd\n",
    "\n",
    "df = pd.DataFrame()\n",
    "\n",
    "for i, entry in enumerate(papers):\n",
    "    fetched = get_data_from_semantic_scholar(entry[\"doi\"])\n",
    "    print(f\"fetching #{i}:\", entry[\"title\"])\n",
    "    if fetched[0] != \"error\" and len(fetched) == 3:\n",
    "        df = df._append({\n",
    "            \"title\": entry[\"title\"],\n",
    "            \"year\": fetched[1],\n",
    "            \"doi\": entry[\"doi\"],\n",
    "            \"abstract\": fetched[0],\n",
    "            \"references\": fetched[2]\n",
    "        }, ignore_index=True)"
   ]
  },
  {
   "cell_type": "code",
   "execution_count": 77,
   "metadata": {},
   "outputs": [],
   "source": [
    "# save df to csv\n",
    "df.to_csv(\"sample.csv\")"
   ]
  }
 ],
 "metadata": {
  "kernelspec": {
   "display_name": ".venv",
   "language": "python",
   "name": "python3"
  },
  "language_info": {
   "codemirror_mode": {
    "name": "ipython",
    "version": 3
   },
   "file_extension": ".py",
   "mimetype": "text/x-python",
   "name": "python",
   "nbconvert_exporter": "python",
   "pygments_lexer": "ipython3",
   "version": "3.12.5"
  }
 },
 "nbformat": 4,
 "nbformat_minor": 2
}
