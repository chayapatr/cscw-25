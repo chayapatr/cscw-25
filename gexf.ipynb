{
 "cells": [
  {
   "cell_type": "code",
   "execution_count": 50,
   "metadata": {},
   "outputs": [],
   "source": [
    "import pandas as pd\n",
    "import ast\n",
    "\n",
    "df = pd.read_csv(\"data/small.csv\")\n",
    "doi_list = df['doi'].to_list()"
   ]
  },
  {
   "cell_type": "code",
   "execution_count": 51,
   "metadata": {},
   "outputs": [],
   "source": [
    "def get_name(doi):\n",
    "    # print(df.loc[df['doi'] == doi].title.values[0])\n",
    "    return df.loc[df['doi'] == doi].title.values[0]\n",
    "\n",
    "graph = {\n",
    "    \"nodes\": [{ \"id\": doi, \"name\": get_name(doi)} for doi in doi_list],\n",
    "    \"links\": []\n",
    "}"
   ]
  },
  {
   "cell_type": "code",
   "execution_count": 52,
   "metadata": {},
   "outputs": [],
   "source": [
    "# loop through df\n",
    "for index, row in df.iterrows():\n",
    "    # print(row.references)\n",
    "    # print(ast.literal_eval(row.references))\n",
    "    references = ast.literal_eval(row.references)\n",
    "    for ref in references:\n",
    "        if(ref in doi_list):\n",
    "            graph[\"links\"].append({\"source\": row.doi, \"target\": ref})"
   ]
  },
  {
   "cell_type": "code",
   "execution_count": 53,
   "metadata": {},
   "outputs": [],
   "source": [
    "from pprint import pprint\n",
    "import networkx as nx\n",
    "import matplotlib.pyplot as plt\n",
    "from community import community_louvain\n",
    "import seaborn as sns\n",
    "from fa2_modified import ForceAtlas2\n",
    "import numpy as np\n",
    "from networkx.readwrite import json_graph;\n",
    "import json\n",
    "\n",
    "# Assume 'graph' is your existing graph structure\n",
    "G = nx.Graph()\n",
    "\n",
    "# Add nodes and edges\n",
    "for node in graph['nodes']:\n",
    "    G.add_node(node['id'], name=node['name'])\n",
    "for link in graph['links']:\n",
    "    G.add_edge(link['source'], link['target'])\n",
    "\n",
    "\n",
    "graph_data = nx.node_link_data(G, edges=\"edges\")\n",
    "with open('graph.json', 'w') as f:\n",
    "    f.write(json.dumps(graph_data))"
   ]
  }
 ],
 "metadata": {
  "kernelspec": {
   "display_name": ".venv",
   "language": "python",
   "name": "python3"
  },
  "language_info": {
   "codemirror_mode": {
    "name": "ipython",
    "version": 3
   },
   "file_extension": ".py",
   "mimetype": "text/x-python",
   "name": "python",
   "nbconvert_exporter": "python",
   "pygments_lexer": "ipython3",
   "version": "3.12.5"
  }
 },
 "nbformat": 4,
 "nbformat_minor": 2
}
