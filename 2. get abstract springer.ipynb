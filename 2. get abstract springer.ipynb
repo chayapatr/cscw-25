{
 "cells": [
  {
   "cell_type": "code",
   "execution_count": 3,
   "id": "e25a4f07",
   "metadata": {},
   "outputs": [],
   "source": [
    "import springernature_api_client.meta as meta\n",
    "from dotenv import get_key\n",
    "import json\n",
    "\n",
    "meta_client = meta.MetaAPI(api_key=get_key(\".env\", \"SPRINGER_API_KEY\"))"
   ]
  },
  {
   "cell_type": "markdown",
   "id": "b182b483",
   "metadata": {},
   "source": [
    "# Get possible abstracts"
   ]
  },
  {
   "cell_type": "code",
   "execution_count": null,
   "id": "9fb0b5fe",
   "metadata": {},
   "outputs": [],
   "source": [
    "s=0\n",
    "m=4575\n",
    "res = []\n",
    "\n",
    "for i in range(s, int(m / 25)):\n",
    "    response = meta_client.search(q='human-ai interaction', p=25, s=(i * 25)+1, fetch_all=False, is_premium=False)\n",
    "    res.append(response['records'])\n",
    "    \n",
    "flatten = [x for xs in res for x in xs]\n",
    "with open('springer-raw.json', 'w') as f:\n",
    "    f.write(json.dumps(flatten))"
   ]
  },
  {
   "cell_type": "markdown",
   "id": "3d39cc47",
   "metadata": {},
   "source": [
    "# Match abstract with paper doi"
   ]
  },
  {
   "cell_type": "code",
   "execution_count": null,
   "id": "4d741c8c",
   "metadata": {},
   "outputs": [],
   "source": [
    "abstract = \"\"\n",
    "springer_dois = \"\"\n",
    "\n",
    "with open('data/doi/springer.txt', 'r') as f:\n",
    "    springer_dois = set([ \"doi:\" + i.split('/article/')[1] for i in f.read().split(\"\\n\") ])\n",
    "\n",
    "with open('data/abstract/springer-raw.json', 'r') as f:\n",
    "    abstract = json.loads(f.read())"
   ]
  },
  {
   "cell_type": "code",
   "execution_count": 6,
   "id": "8da82a99",
   "metadata": {},
   "outputs": [],
   "source": [
    "springer_papers = []\n",
    "\n",
    "for i in abstract:\n",
    "    if(i['identifier'] in springer_dois):\n",
    "        springer_papers.append({\n",
    "            \"paperId\": i['identifier'].split(\"doi:\")[1],\n",
    "            \"title\": i['title'],\n",
    "            \"abstract\": i['abstract'],\n",
    "            \"publicationDate\": i['publicationDate']\n",
    "        })"
   ]
  },
  {
   "cell_type": "code",
   "execution_count": 8,
   "id": "0c845fa1",
   "metadata": {},
   "outputs": [
    {
     "name": "stderr",
     "output_type": "stream",
     "text": [
      "2025-04-08 01:48:45,998 - INFO - Making request to: https://api.springernature.com/meta/v2/json with params: {'q': 'doi:10.1007/s00146-023-01832-9', 'p': 10, 's': 1, 'api_key': 'b007d43ac03eb7d2fa79f1b448261ec8'}\n"
     ]
    },
    {
     "name": "stdout",
     "output_type": "stream",
     "text": [
      "Fetching meta: query='doi:10.1007/s00146-023-01832-9', page=10, start=1\n"
     ]
    },
    {
     "name": "stderr",
     "output_type": "stream",
     "text": [
      "2025-04-08 01:48:47,191 - INFO - Making request to: https://api.springernature.com/meta/v2/json with params: {'q': 'doi:10.1007/s00146-017-0732-5', 'p': 10, 's': 1, 'api_key': 'b007d43ac03eb7d2fa79f1b448261ec8'}\n"
     ]
    },
    {
     "name": "stdout",
     "output_type": "stream",
     "text": [
      "Fetching meta: query='doi:10.1007/s00146-017-0732-5', page=10, start=1\n"
     ]
    }
   ],
   "source": [
    "import springernature_api_client.meta as meta\n",
    "from dotenv import get_key\n",
    "meta_client = meta.MetaAPI(api_key=get_key(\".env\", \"SPRINGER_API_KEY\"))\n",
    "\n",
    "missings = springer_dois - set([\"doi:\" + i['paperId'] for i in springer_papers])\n",
    "for i in [*missings]:\n",
    "    paper = meta_client.search(q=i)['records'][0]\n",
    "    springer_papers.append({\n",
    "            \"paperId\": paper['identifier'].split(\"doi:\")[1],\n",
    "            \"title\": paper['title'],\n",
    "            \"abstract\": paper['abstract'],\n",
    "            \"publicationDate\": paper['publicationDate']\n",
    "        })"
   ]
  },
  {
   "cell_type": "code",
   "execution_count": null,
   "id": "a386f63b",
   "metadata": {},
   "outputs": [],
   "source": [
    "import functions.fetch as fetch\n",
    "fetch.save(json.dumps(springer_papers), \"data/abstract/springer.json\")"
   ]
  }
 ],
 "metadata": {
  "kernelspec": {
   "display_name": ".venv",
   "language": "python",
   "name": "python3"
  },
  "language_info": {
   "codemirror_mode": {
    "name": "ipython",
    "version": 3
   },
   "file_extension": ".py",
   "mimetype": "text/x-python",
   "name": "python",
   "nbconvert_exporter": "python",
   "pygments_lexer": "ipython3",
   "version": "3.13.1"
  }
 },
 "nbformat": 4,
 "nbformat_minor": 5
}
