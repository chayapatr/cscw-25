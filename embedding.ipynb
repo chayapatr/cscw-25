{
 "cells": [
  {
   "cell_type": "code",
   "execution_count": 13,
   "metadata": {},
   "outputs": [],
   "source": [
    "import os\n",
    "from dotenv import load_dotenv\n",
    "from openai import OpenAI\n",
    "\n",
    "load_dotenv()\n",
    "API_KEY = os.getenv('API_KEY')"
   ]
  },
  {
   "cell_type": "code",
   "execution_count": 19,
   "metadata": {},
   "outputs": [
    {
     "data": {
      "text/plain": [
       "'HAID: Human-AI Interaction for Dementia Care'"
      ]
     },
     "execution_count": 19,
     "metadata": {},
     "output_type": "execute_result"
    }
   ],
   "source": [
    "import pandas as pd\n",
    "\n",
    "df = pd.read_csv('acm.csv')"
   ]
  },
  {
   "cell_type": "code",
   "execution_count": 75,
   "metadata": {},
   "outputs": [],
   "source": [
    "from pydantic import BaseModel\n",
    "class AbstractSummary(BaseModel):\n",
    "    class Summary(BaseModel):\n",
    "        bullet: str\n",
    "        effect: str\n",
    "        \n",
    "    keywords: list[str]\n",
    "    summaries: list[Summary]"
   ]
  },
  {
   "cell_type": "code",
   "execution_count": 115,
   "metadata": {},
   "outputs": [],
   "source": [
    "client = OpenAI(\n",
    "    # This is the default and can be omitted\n",
    "    api_key=API_KEY,\n",
    ")\n",
    "\n",
    "prompt = \"\"\"Extract key findings from the abstract of this paper in bullet points focusing on the effect of AI,\n",
    "emphasizing complete and clear statements of results or conclusions (e.g., \\\"AI Chatbot can induce creativity in brainstorming session\\\" or \\\"AI-enabled knowledge graph generation can be used for taxonomical tasks\\\").\n",
    "Avoid including any context or procedural details (e.g. the paper hosts workshops sessions to test the hypothesis).\n",
    "Each of the statement should be self-explanatory, independent from other bullets, and informative.\n",
    "Terms like higher than (...), control condition, must be elaborated and explained or avoided.\n",
    "Superlative terms, e.g., strongest or highest, must be modified relatively to other findings or avoid the terms.\n",
    "Number of bullets should be as small as possible, corresponding to the number of significant, statistical, and practical findings.\n",
    "\n",
    "The format of the output is as follows:\n",
    "summary.bullet -> summary\n",
    "summary.effect -> \"Positive\" | \"Negative\" | \"Neutral\" analyzing the effect of AI on the findings on the society and human\n",
    "keywords -> topics and themes of the paper. With these papers being about AI and HCI, terms related to the two, e.g. \"AI application\", \"Human-centered design\", \"Human-AI interaction\", must be omitted. The included terms should be around the thematic concerns of the paper, e.g. \"Medical\", \"Creativity\", \"Productivity\".\n",
    "\"\"\"\n",
    "\n",
    "def get_summary(abstract):\n",
    "    chat_completion = client.beta.chat.completions.parse(\n",
    "        messages=[\n",
    "            {\n",
    "                \"role\": \"user\",\n",
    "                \"content\": prompt + \" The following is the abstract: \" + abstract,\n",
    "            },\n",
    "        ],\n",
    "        model=\"gpt-4o\",\n",
    "        response_format=AbstractSummary,\n",
    "    )\n",
    "    \n",
    "    return chat_completion.choices[0].message.parsed\n",
    "\n",
    "def print_summary(summary):\n",
    "    print(f\"Keywords: {summary.keywords}\")\n",
    "    for s in summary.summaries:\n",
    "        print(f\"- {s.bullet} | Effect: {s.effect}\")"
   ]
  },
  {
   "cell_type": "code",
   "execution_count": 116,
   "metadata": {},
   "outputs": [
    {
     "name": "stdout",
     "output_type": "stream",
     "text": [
      "HAID: Human-AI Interaction for Dementia Care\n",
      "Keywords: ['Dementia', 'Caregiving', 'Quality of Life']\n",
      "- AI technologies can improve the quality of life for individuals with dementia. | Effect: Positive\n",
      "- AI-driven platforms support caregivers in managing dementia care challenges. | Effect: Positive\n",
      "\n",
      "Theory of Mind in Human-AI Interaction\n",
      "Keywords: ['Theory of Mind', 'Social Interaction', 'Mental States Attribution', 'Human Expectations']\n",
      "- AI systems with human-like Theory of Mind capabilities can potentially interpret and attribute mental states such as intentions, emotions, and beliefs effectively. | Effect: Positive\n",
      "- People may naturally attribute mental states like blame, emotions, and intentions to AI, influencing how the AI should behave to meet human expectations. | Effect: Positive\n",
      "- Mutual Theory of Mind in AI is emerging as a new paradigm that allows both human and AI to understand and attribute mental states to each other. | Effect: Positive\n",
      "\n",
      "Assessing Human-AI Interaction Early through Factorial Surveys: A Study on the Guidelines for Human-AI Interaction\n",
      "Keywords: ['Research Protocol', 'User Experience', 'Guidelines']\n",
      "- AI-driven guidelines offer nuanced UX prioritization for creators. | Effect: Positive\n",
      "- User perception improves significantly with adherence to AI interaction guidelines. | Effect: Positive\n",
      "- Sub-optimal AI performance negatively influences user satisfaction despite guideline adherence. | Effect: Negative\n",
      "- Evaluation of guidelines aids in validating human-AI design decisions. | Effect: Positive\n",
      "\n",
      "Spiritual AI: Exploring the Possibilities of a Human-AI Interaction Beyond Productive Goals\n",
      "Keywords: ['Prayer', 'User Values', 'Deep Reflection', 'Community Building']\n",
      "- AI system has the potential to provoke deep reflections during prayer experiences. | Effect: Positive\n",
      "- Conceptualized AI systems can foster the creation of indirect communities. | Effect: Positive\n",
      "- AI technologies can embrace diverse user values beyond productivity goals. | Effect: Neutral\n",
      "\n"
     ]
    }
   ],
   "source": [
    "for i in range(4):\n",
    "    print(df.iloc[i]['title'])\n",
    "    s = get_summary(df.iloc[i]['abstract'])\n",
    "    print_summary(s)\n",
    "    print()"
   ]
  },
  {
   "cell_type": "code",
   "execution_count": 117,
   "metadata": {},
   "outputs": [],
   "source": [
    "abs = \"AI is increasingly used to enhance images and videos, both intentionally and unintentionally. As AI editing tools become more integrated into smartphones, users can modify or animate photos into realistic videos. This study examines the impact of AI-altered visuals on false memories--recollections of events that didn't occur or deviate from reality. In a pre-registered study, 200 participants were divided into four conditions of 50 each. Participants viewed original images, completed a filler task, then saw stimuli corresponding to their assigned condition: unedited images, AI-edited images, AI-generated videos, or AI-generated videos of AI-edited images. AI-edited visuals significantly increased false recollections, with AI-generated videos of AI-edited images having the strongest effect (2.05x compared to control). Confidence in false memories was also highest for this condition (1.19x compared to control). We discuss potential applications in HCI, such as therapeutic memory reframing, and challenges in ethical, legal, political, and societal domains.\"\n",
    "s = get_summary(abs)"
   ]
  },
  {
   "cell_type": "code",
   "execution_count": 118,
   "metadata": {},
   "outputs": [
    {
     "name": "stdout",
     "output_type": "stream",
     "text": [
      "Keywords: ['False Memories', 'Ethical Concerns', 'Therapeutic Applications']\n",
      "- AI-edited visuals significantly increased the occurrence of false memories among participants. | Effect: Negative\n",
      "- AI-generated videos of AI-edited images resulted in the highest increase in false memory confidence among participants. | Effect: Negative\n",
      "- AI tools used in altering visuals can be applied for therapeutic memory reframing objectives. | Effect: Positive\n"
     ]
    }
   ],
   "source": [
    "print_summary(s)"
   ]
  }
 ],
 "metadata": {
  "kernelspec": {
   "display_name": ".venv",
   "language": "python",
   "name": "python3"
  },
  "language_info": {
   "codemirror_mode": {
    "name": "ipython",
    "version": 3
   },
   "file_extension": ".py",
   "mimetype": "text/x-python",
   "name": "python",
   "nbconvert_exporter": "python",
   "pygments_lexer": "ipython3",
   "version": "3.12.5"
  }
 },
 "nbformat": 4,
 "nbformat_minor": 2
}
