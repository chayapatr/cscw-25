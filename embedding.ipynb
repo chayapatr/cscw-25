{
 "cells": [
  {
   "cell_type": "code",
   "execution_count": 13,
   "metadata": {},
   "outputs": [],
   "source": [
    "import os\n",
    "from dotenv import load_dotenv\n",
    "from openai import OpenAI\n",
    "\n",
    "load_dotenv()\n",
    "API_KEY = os.getenv('API_KEY')"
   ]
  },
  {
   "cell_type": "code",
   "execution_count": 19,
   "metadata": {},
   "outputs": [
    {
     "data": {
      "text/plain": [
       "'HAID: Human-AI Interaction for Dementia Care'"
      ]
     },
     "execution_count": 19,
     "metadata": {},
     "output_type": "execute_result"
    }
   ],
   "source": [
    "import pandas as pd\n",
    "\n",
    "df = pd.read_csv('acm.csv')"
   ]
  },
  {
   "cell_type": "code",
   "execution_count": 37,
   "metadata": {},
   "outputs": [
    {
     "name": "stdout",
     "output_type": "stream",
     "text": [
      "- Equipping AI with Theory of Mind (ToM) capabilities can contribute to building highly socially intelligent AI.\n",
      "- People's tendency to attribute mental states such as blame, emotions, and intentions to AI can influence the development of human-centered AI systems.\n",
      "- Understanding the role AI should play (e.g., tool, partner, teacher, facilitator) can help align it with people's expectations and mental models.\n",
      "- The concept of Mutual Theory of Mind (MToM) involves both humans and AI possessing ToM capabilities for more sophisticated interactions.\n",
      "- Developing MToM in AI can guide the creation of advanced AI systems through human-centered design implications.\n"
     ]
    }
   ],
   "source": [
    "client = OpenAI(\n",
    "    # This is the default and can be omitted\n",
    "    api_key=API_KEY,\n",
    ")\n",
    "\n",
    "prompt = \"\"\"Extract key findings from the abstract of this paper in bullet points focusing on the effect of AI,\n",
    "emphasizing complete and clear statements of results or conclusions (e.g., \\\"AI Chatbot can induce creativity in brainstorming session\\\" or \\\"AI-enabled knowledge graph generation can be used for taxonomical tasks\\\").\n",
    "Avoid including any context or procedural details (e.g. the paper hosts workshops sessions to test the hypothesis).\n",
    "They will be embeded into vector space, so each of the statement should be clear, independent, and informative.\n",
    "Number of bullets should be as small as possible, corresponding to the number of findings.\n",
    "\"\"\"\n",
    "\n",
    "chat_completion = client.chat.completions.create(\n",
    "    messages=[\n",
    "        {\n",
    "            \"role\": \"user\",\n",
    "            \"content\": prompt + \" The following is the abstract: \" + df.iloc[1]['abstract'],\n",
    "        }\n",
    "    ],\n",
    "    model=\"gpt-4o\",\n",
    ")\n",
    "\n",
    "print(chat_completion.choices[0].message.content)"
   ]
  }
 ],
 "metadata": {
  "kernelspec": {
   "display_name": ".venv",
   "language": "python",
   "name": "python3"
  },
  "language_info": {
   "codemirror_mode": {
    "name": "ipython",
    "version": 3
   },
   "file_extension": ".py",
   "mimetype": "text/x-python",
   "name": "python",
   "nbconvert_exporter": "python",
   "pygments_lexer": "ipython3",
   "version": "3.12.5"
  }
 },
 "nbformat": 4,
 "nbformat_minor": 2
}
