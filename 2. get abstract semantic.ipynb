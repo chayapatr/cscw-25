{
 "cells": [
  {
   "cell_type": "code",
   "execution_count": 1,
   "id": "9383e824",
   "metadata": {},
   "outputs": [
    {
     "name": "stdout",
     "output_type": "stream",
     "text": [
      "Batch: 0\n",
      "<Response [200]>\n",
      "Batch: 100\n",
      "<Response [200]>\n",
      "Batch: 200\n",
      "<Response [200]>\n",
      "Batch: 300\n",
      "<Response [200]>\n",
      "Batch: 400\n",
      "<Response [200]>\n",
      "Batch: 500\n",
      "<Response [200]>\n",
      "Batch: 600\n",
      "<Response [200]>\n",
      "Batch: 700\n",
      "<Response [200]>\n",
      "Batch: 800\n",
      "<Response [200]>\n",
      "Batch: 900\n",
      "<Response [429]>\n"
     ]
    }
   ],
   "source": [
    "import requests\n",
    "import json\n",
    "import functions.fetch as fetch\n",
    "import importlib\n",
    "importlib.reload(fetch)\n",
    "\n",
    "# ACM\n",
    "dois = []\n",
    "with open('data/doi/acm.txt', 'r') as f:\n",
    "    dois = [doi.split(\"https://doi.org/\")[1] for doi in f.read().split(\"\\n\")]\n",
    "\n",
    "# ArXiv\n",
    "# dois = []\n",
    "# with open('data/doi/arxiv.txt', 'r') as f:\n",
    "#     dois = [doi for doi in f.read().split(\"\\n\")]\n",
    "    \n",
    "data = fetch.semantic_scholar_from_doi(dois)"
   ]
  },
  {
   "cell_type": "code",
   "execution_count": 2,
   "id": "350b9145",
   "metadata": {},
   "outputs": [
    {
     "name": "stdout",
     "output_type": "stream",
     "text": [
      "Batch: 9\n",
      "<Response [200]>\n"
     ]
    }
   ],
   "source": [
    "err = [9]\n",
    "data = fetch.semantic_scholar_err(dois, data, err)"
   ]
  },
  {
   "cell_type": "code",
   "execution_count": 3,
   "id": "8a56c32d",
   "metadata": {},
   "outputs": [],
   "source": [
    "data_final = [paper for batch in data for paper in json.loads(batch)]\n",
    "fetch.save(json.dumps(data_final), \"data/abstract_data/acm.json\")"
   ]
  }
 ],
 "metadata": {
  "kernelspec": {
   "display_name": ".venv",
   "language": "python",
   "name": "python3"
  },
  "language_info": {
   "codemirror_mode": {
    "name": "ipython",
    "version": 3
   },
   "file_extension": ".py",
   "mimetype": "text/x-python",
   "name": "python",
   "nbconvert_exporter": "python",
   "pygments_lexer": "ipython3",
   "version": "3.13.1"
  }
 },
 "nbformat": 4,
 "nbformat_minor": 5
}
