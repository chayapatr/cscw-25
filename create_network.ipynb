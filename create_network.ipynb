{
 "cells": [
  {
   "cell_type": "code",
   "execution_count": 1,
   "metadata": {},
   "outputs": [],
   "source": [
    "import pandas as pd\n",
    "import networkx as nx\n",
    "import ast\n",
    "import json\n",
    "\n",
    "data = pd.read_csv('data/sample-summary.csv')\n",
    "relation = pd.read_csv('data/sample-relation.csv')"
   ]
  },
  {
   "cell_type": "code",
   "execution_count": 2,
   "metadata": {},
   "outputs": [],
   "source": [
    "doi_list = data['doi'].to_list()\n",
    "\n",
    "def get_name(doi):\n",
    "    return data.loc[data['doi'] == doi].title.values[0]"
   ]
  },
  {
   "cell_type": "code",
   "execution_count": 3,
   "metadata": {},
   "outputs": [],
   "source": [
    "G = nx.DiGraph()\n",
    "for i in range(len(data)):\n",
    "    paper = data.iloc[i]\n",
    "    summaries = ast.literal_eval(paper.summaries)\n",
    "    for i, summary in enumerate(summaries):\n",
    "        G.add_node(f\"{paper.doi}:{i}\", name=summary['summary'], effect=summary['effect'], paper=paper['doi'], kind=\"finding\")\n",
    "    G.add_node(f\"{paper['doi']}\", name=get_name(paper['doi']), kind=\"paper\", summaries=len(summaries), theme=paper['theme'], keywords=paper['keywords'], year=paper['year'].item())\n",
    "\n",
    "# add literal references\n",
    "for i in range(len(data)):\n",
    "    paper = data.iloc[i]\n",
    "    references = ast.literal_eval(paper.references)\n",
    "    for ref in references:\n",
    "        if(ref in doi_list):\n",
    "            # (f\"{paper.doi}\", f\"{ref}\", kind=\"paper\")\n",
    "            G.add_edge(f\"{paper.doi}\", f\"{ref}\", kind=\"paper\")\n",
    "            \n",
    "# add paper to finding            \n",
    "for i in range(len(data)):\n",
    "    paper = data.iloc[i]\n",
    "    summaries = ast.literal_eval(paper.summaries)\n",
    "    for i, summary in enumerate(summaries):\n",
    "        G.add_edge(f\"{paper.doi}\", f\"{paper.doi}:{i}\", kind=\"paper_to_finding\")"
   ]
  },
  {
   "cell_type": "code",
   "execution_count": 4,
   "metadata": {},
   "outputs": [],
   "source": [
    "# add relation\n",
    "for i in range(len(relation)):\n",
    "    # paper = relation.iloc[i]\n",
    "    # G.add_edge(f\"{paper['paper']}\", f\"{paper['finding']}\", kind=\"paper_to_finding\")\n",
    "    # print(paper['paper'], paper['finding'])\n",
    "    r = relation.iloc[i]\n",
    "    source = r.iloc[1]\n",
    "    target = r.iloc[2]\n",
    "    p = ast.literal_eval(r.iloc[3])\n",
    "    G.add_edge(f\"{source}\", f\"{target}\", relation=p['relation'], explanation=p['explanation'], polarity=p['polarity'], kind=\"finding\")"
   ]
  },
  {
   "cell_type": "code",
   "execution_count": 5,
   "metadata": {},
   "outputs": [],
   "source": [
    "graph_data = nx.node_link_data(G, edges=\"edges\")\n",
    "with open('graph-relation.json', 'w') as f:\n",
    "    f.write(json.dumps(graph_data))"
   ]
  }
 ],
 "metadata": {
  "kernelspec": {
   "display_name": ".venv",
   "language": "python",
   "name": "python3"
  },
  "language_info": {
   "codemirror_mode": {
    "name": "ipython",
    "version": 3
   },
   "file_extension": ".py",
   "mimetype": "text/x-python",
   "name": "python",
   "nbconvert_exporter": "python",
   "pygments_lexer": "ipython3",
   "version": "3.12.5"
  }
 },
 "nbformat": 4,
 "nbformat_minor": 2
}
