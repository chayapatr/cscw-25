{
 "cells": [
  {
   "cell_type": "code",
   "execution_count": 43,
   "id": "e554e6e6",
   "metadata": {},
   "outputs": [],
   "source": [
    "from openai import OpenAI\n",
    "from pydantic import BaseModel\n",
    "import functions.prompts as prompts\n",
    "import functions.llm as llm\n",
    "import functions.fetch as fetch\n",
    "import functions.triplets as triplets\n",
    "import pandas as pd\n",
    "import json\n",
    "from openai.lib._parsing._completions import type_to_response_format_param\n",
    "\n",
    "import importlib\n",
    "importlib.reload(llm)\n",
    "importlib.reload(prompts)\n",
    "importlib.reload(fetch)\n",
    "importlib.reload(triplets)\n",
    "\n",
    "client = OpenAI()"
   ]
  },
  {
   "cell_type": "code",
   "execution_count": 44,
   "id": "c261873c",
   "metadata": {},
   "outputs": [],
   "source": [
    "class Subject(BaseModel):\n",
    "   type: str # human | ai | co ONLY\n",
    "   subtype: str # generative | student\n",
    "   feature: str # creativity | explaination | #trust\n",
    "   \n",
    "class Triplet(BaseModel):\n",
    "   cause: Subject\n",
    "   relationship: str\n",
    "   effect: Subject"
   ]
  },
  {
   "cell_type": "code",
   "execution_count": 45,
   "id": "a8601974",
   "metadata": {},
   "outputs": [],
   "source": [
    "df = pd.read_csv(\"./data/findings/findings.csv\")\n",
    "\n",
    "reqs = []\n",
    "for i, row in df.iterrows():\n",
    "    reqs.append(llm.wrap(f\"{i}:{row['paper-id']}\", {\n",
    "        \"model\": \"o3-mini\",\n",
    "        \"messages\": [{\n",
    "            \"role\": \"system\",\n",
    "            \"content\": prompts.triplets\n",
    "        }, {\n",
    "            \"role\": \"user\",\n",
    "            \"content\": row['finding']\n",
    "        }],\n",
    "        \"response_format\": type_to_response_format_param(Triplet)\n",
    "    }))\n",
    "\n",
    "req_path = \"data/triplets/req.jsonl\"\n",
    "# llm.gen_batch_jsonl(req_path, reqs)"
   ]
  },
  {
   "cell_type": "code",
   "execution_count": 46,
   "id": "74adccdb",
   "metadata": {},
   "outputs": [],
   "source": [
    "# print(f\"File ID: {batch['batch_file']}\")\n",
    "# print(f\"Batch ID: {batch['batch_object']}\")\n",
    "# \n",
    "# fetch.save(f\"File ID: {batch['batch_file']} \\nBatch ID: {batch['batch_object']}\", \"data/triplets/req_file_id.txt\")"
   ]
  },
  {
   "cell_type": "code",
   "execution_count": 47,
   "id": "3b45efbd",
   "metadata": {},
   "outputs": [],
   "source": [
    "res_path = \"data/triplets/res.jsonl\"\n",
    "# output_file_id = llm.get_batch_result(client, batch['batch_object'], res_path)"
   ]
  },
  {
   "cell_type": "code",
   "execution_count": 48,
   "id": "142aa1c6",
   "metadata": {},
   "outputs": [
    {
     "name": "stdout",
     "output_type": "stream",
     "text": [
      "Error processing line (1267:paper-894)\n"
     ]
    }
   ],
   "source": [
    "import pandas as pd\n",
    "\n",
    "f =  open(res_path, \"r\")\n",
    "res = f.read()\n",
    "f.close()\n",
    "\n",
    "df = pd.DataFrame(columns=[\"paper-id\", \"cause\", \"relation\", \"effect\"])\n",
    "df_keys = []\n",
    "\n",
    "for i in res.split(\"\\n\")[:-1]:\n",
    "    line = json.loads(i)\n",
    "    id = line['custom_id']\n",
    "    try:\n",
    "        content = Triplet.model_validate_json(line['response']['body']['choices'][0]['message']['content'])\n",
    "        df.loc[len(df)] = [id, triplets.parse_subject(content.cause), str(content.relationship), triplets.parse_subject(content.effect)]\n",
    "        keys = [f\"{content.cause.type}:{content.cause.subtype}:{content.cause.feature}\", content.relationship, content.effect]\n",
    "        df_keys += triplets.parse_key_list(content.cause)\n",
    "        if(\"human|user\" in triplets.parse_key_list(content.cause)):\n",
    "            print(content.cause)\n",
    "        df_keys += triplets.parse_key_list(content.effect)\n",
    "        if(\"human|user\" in triplets.parse_key_list(content.cause)):\n",
    "            print(content.cause)\n",
    "\n",
    "    except Exception as e:\n",
    "        print(f\"Error processing line ({id})\")\n",
    "    \n",
    "df_keys = set(df_keys)\n",
    "fetch.save(\"\\n\".join([*df_keys]), \"data/embeddings/keys.txt\")\n",
    "df.to_csv(\"data/triplets/triplets.csv\", index=False)"
   ]
  }
 ],
 "metadata": {
  "kernelspec": {
   "display_name": ".venv",
   "language": "python",
   "name": "python3"
  },
  "language_info": {
   "codemirror_mode": {
    "name": "ipython",
    "version": 3
   },
   "file_extension": ".py",
   "mimetype": "text/x-python",
   "name": "python",
   "nbconvert_exporter": "python",
   "pygments_lexer": "ipython3",
   "version": "3.13.1"
  }
 },
 "nbformat": 4,
 "nbformat_minor": 5
}
