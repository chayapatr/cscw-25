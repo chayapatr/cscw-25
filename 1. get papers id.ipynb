{
 "cells": [
  {
   "cell_type": "code",
   "execution_count": 5,
   "id": "e3c2525d",
   "metadata": {},
   "outputs": [
    {
     "data": {
      "text/plain": [
       "<module 'functions.fetch' from '/Users/chayapatr/Papers/uist-25/functions/fetch.py'>"
      ]
     },
     "execution_count": 5,
     "metadata": {},
     "output_type": "execute_result"
    }
   ],
   "source": [
    "import functions.fetch as fetch\n",
    "from bs4 import BeautifulSoup\n",
    "\n",
    "import importlib\n",
    "importlib.reload(fetch)"
   ]
  },
  {
   "cell_type": "code",
   "execution_count": null,
   "id": "0a993975",
   "metadata": {},
   "outputs": [
    {
     "name": "stdout",
     "output_type": "stream",
     "text": [
      "Springer Page 1\n",
      "Springer Page 2\n",
      "Springer Page 3\n",
      "Springer Page 4\n",
      "Springer Page 5\n",
      "Springer Page 6\n",
      "Springer Page 7\n",
      "Springer Page 8\n",
      "Springer Page 9\n",
      "Springer Page 10\n",
      "Springer Page 11\n",
      "Springer Page 12\n",
      "Springer Page 13\n",
      "Springer Page 14\n",
      "Springer Page 15\n"
     ]
    }
   ],
   "source": [
    "springer_url = \"https://link.springer.com/search?new-search=true&query=%22human-ai+interaction%22&content-type=Research&sortBy=newestFirst&page=\"\n",
    "springer_dois = []\n",
    "\n",
    "for i in range(1, 16):\n",
    "    print(\"Springer Page\", i)\n",
    "    soap = fetch.get_page(springer_url + str(i))\n",
    "    dois = fetch.get_springer(soap)\n",
    "    springer_dois += dois\n",
    "    \n",
    "# fetch.save(\"\\n\".join(springer_dois), './data/doi/springer.txt')"
   ]
  },
  {
   "cell_type": "code",
   "execution_count": null,
   "id": "4704ff74",
   "metadata": {},
   "outputs": [
    {
     "name": "stdout",
     "output_type": "stream",
     "text": [
      "Arxiv Page 0\n",
      "Arxiv Page 1\n",
      "Arxiv Page 2\n"
     ]
    }
   ],
   "source": [
    "arxiv_url = \"https://arxiv.org/search/?searchtype=all&query=%22human-ai+interaction%22&abstracts=show&size=100&order=-announced_date_first&date-date_type=submitted_date&start=\"\n",
    "arxiv_dois = []\n",
    "\n",
    "for i in range(3):\n",
    "    print(\"Arxiv Page\", i)\n",
    "    soap = fetch.get_page(arxiv_url + str(i * 100 + 1))\n",
    "    dois = fetch.get_arxiv(soap)\n",
    "    arxiv_dois += dois\n",
    "    \n",
    "# fetch.save(\"\\n\".join(arxiv_dois), './data/doi/arxiv.txt')"
   ]
  },
  {
   "cell_type": "code",
   "execution_count": 6,
   "id": "41628455",
   "metadata": {},
   "outputs": [
    {
     "name": "stdout",
     "output_type": "stream",
     "text": [
      "25\n",
      "25\n",
      "25\n",
      "14\n"
     ]
    }
   ],
   "source": [
    "ieee_names = []\n",
    "for i in range(1, 5):\n",
    "    with open(f'data/doi/ieee/{i}.html', 'r') as f:\n",
    "        soap = BeautifulSoup(f.read(), 'html.parser')\n",
    "        names = fetch.get_ieee(soap)\n",
    "        print(len(names))\n",
    "        ieee_names += names\n",
    "        \n",
    "fetch.save(\"\\n\".join(ieee_names), './data/doi/ieee.txt')"
   ]
  },
  {
   "cell_type": "code",
   "execution_count": 26,
   "id": "02645c2e",
   "metadata": {},
   "outputs": [],
   "source": [
    "acm_dois = []\n",
    "for i in range(1, 5):\n",
    "    with open(f'data/doi/acm/{i}.html', 'r') as f:\n",
    "        soap = BeautifulSoup(f.read(), 'html.parser')\n",
    "        names = fetch.get_acm(soap)\n",
    "        acm_dois += names\n",
    "\n",
    "acm_type_filter = ['Article', 'Work in Progress', 'research-article', 'extended-abstract', 'short-paper', 'poster']\n",
    "acm_dois = [item['doi'] for item in acm_dois if item['content'] in acm_type_filter]\n",
    "\n",
    "fetch.save(\"\\n\".join(acm_dois), './data/doi/acm.txt')"
   ]
  }
 ],
 "metadata": {
  "kernelspec": {
   "display_name": ".venv",
   "language": "python",
   "name": "python3"
  },
  "language_info": {
   "codemirror_mode": {
    "name": "ipython",
    "version": 3
   },
   "file_extension": ".py",
   "mimetype": "text/x-python",
   "name": "python",
   "nbconvert_exporter": "python",
   "pygments_lexer": "ipython3",
   "version": "3.13.1"
  }
 },
 "nbformat": 4,
 "nbformat_minor": 5
}
