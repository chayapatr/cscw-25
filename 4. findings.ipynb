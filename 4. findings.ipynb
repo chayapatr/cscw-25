{
 "cells": [
  {
   "cell_type": "code",
   "execution_count": 2,
   "id": "08cdf6ba",
   "metadata": {},
   "outputs": [],
   "source": [
    "from openai import OpenAI\n",
    "from pydantic import BaseModel\n",
    "import functions.prompts as prompts\n",
    "import functions.llm as llm\n",
    "import functions.fetch as fetch\n",
    "import pandas as pd\n",
    "import json\n",
    "from openai.lib._parsing._completions import type_to_response_format_param\n",
    "\n",
    "import importlib\n",
    "importlib.reload(llm)\n",
    "importlib.reload(prompts)\n",
    "importlib.reload(fetch)\n",
    "\n",
    "client = OpenAI()"
   ]
  },
  {
   "cell_type": "code",
   "execution_count": 3,
   "id": "83be5f07",
   "metadata": {},
   "outputs": [],
   "source": [
    "class Note(BaseModel):\n",
    "    type: str\n",
    "    description: str\n",
    "\n",
    "class AbstractSummary(BaseModel):\n",
    "    keywords: list[str]\n",
    "    summaries: list[str]\n",
    "    note: Note"
   ]
  },
  {
   "cell_type": "code",
   "execution_count": 5,
   "id": "9f83d24e",
   "metadata": {},
   "outputs": [],
   "source": [
    "df = pd.read_csv(\"./data/abstract/abstract.csv\")\n",
    "df_ref = pd.DataFrame(columns=[\"id\", \"ref_id\"])\n",
    "\n",
    "reqs = []\n",
    "ref = []\n",
    "for i, row in df.iterrows():\n",
    "    reqs.append(llm.wrap(f\"paper-{i}\", {\n",
    "        \"model\": \"o3-mini\",\n",
    "        \"messages\": [{\n",
    "            \"role\": \"system\",\n",
    "            \"content\": prompts.findings\n",
    "        }, {\n",
    "            \"role\": \"user\",\n",
    "            \"content\": row.title + \"\\n\" + row.abstract\n",
    "        }],\n",
    "        \"response_format\": type_to_response_format_param(AbstractSummary)\n",
    "    }))\n",
    "    df_ref.loc[len(df_ref)] = [row.paperId, f\"paper-{i}\"]\n",
    "\n",
    "req_path = \"data/findings/req.jsonl\"\n",
    "llm.gen_batch_jsonl(req_path, reqs)\n",
    "df_ref.to_csv('data/findings/ref.csv', index=False)"
   ]
  },
  {
   "cell_type": "code",
   "execution_count": null,
   "id": "b33bf739",
   "metadata": {},
   "outputs": [],
   "source": [
    "batch = llm.gen_batch(client, req_path, metadata=\"Atlas of Human-AI Interaction\")"
   ]
  },
  {
   "cell_type": "code",
   "execution_count": null,
   "id": "d8a42bf4",
   "metadata": {},
   "outputs": [],
   "source": [
    "print(f\"File ID: {batch['batch_file']}\")\n",
    "print(f\"Batch ID: {batch['batch_object']}\")\n",
    "\n",
    "fetch.save(f\"File ID: {batch['batch_file']} \\nBatch ID: {batch['batch_object']}\", \"data/findings/req_file_id.txt\")"
   ]
  },
  {
   "cell_type": "code",
   "execution_count": null,
   "id": "28eef3d2",
   "metadata": {},
   "outputs": [],
   "source": [
    "# batch = {\n",
    "#     \"batch_object\": \"\"\n",
    "# }\n",
    "client.batches.retrieve(batch['batch_object'])"
   ]
  },
  {
   "cell_type": "code",
   "execution_count": null,
   "id": "db8c5ce0",
   "metadata": {},
   "outputs": [],
   "source": [
    "res_path = \"data/findings/res.jsonl\"\n",
    "output_file_id = llm.get_batch_result(client, batch['batch_object'], res_path)"
   ]
  },
  {
   "cell_type": "code",
   "execution_count": null,
   "id": "4e786c7b",
   "metadata": {},
   "outputs": [],
   "source": [
    "import pandas as pd\n",
    "\n",
    "f =  open(res_path, \"r\")\n",
    "res = f.read()\n",
    "f.close()\n",
    "\n",
    "df = pd.DataFrame(columns=[\"paper-id\", \"keywords\", \"summaries\", \"notes\"])\n",
    "df_findings = pd.DataFrame(columns=[\"paper-id\", \"finding\"])\n",
    "\n",
    "for i in res.split(\"\\n\")[:-1]:\n",
    "    line = json.loads(i)\n",
    "    id = line['custom_id']\n",
    "    content = AbstractSummary.model_validate_json(line['response']['body']['choices'][0]['message']['content'])\n",
    "    df.loc[len(df)] = [id, str(content.keywords), str(content.summaries), str(content.note)]\n",
    "    for finding in content.summaries:\n",
    "        df_findings.loc[len(df_findings)] = [id, finding]"
   ]
  },
  {
   "cell_type": "code",
   "execution_count": null,
   "id": "ab43885b",
   "metadata": {},
   "outputs": [],
   "source": [
    "df.to_csv('data/findings/res.csv', index=False)\n",
    "df_findings.to_csv('data/findings/findings.csv', index=False)"
   ]
  }
 ],
 "metadata": {
  "kernelspec": {
   "display_name": ".venv",
   "language": "python",
   "name": "python3"
  },
  "language_info": {
   "codemirror_mode": {
    "name": "ipython",
    "version": 3
   },
   "file_extension": ".py",
   "mimetype": "text/x-python",
   "name": "python",
   "nbconvert_exporter": "python",
   "pygments_lexer": "ipython3",
   "version": "3.13.1"
  }
 },
 "nbformat": 4,
 "nbformat_minor": 5
}
