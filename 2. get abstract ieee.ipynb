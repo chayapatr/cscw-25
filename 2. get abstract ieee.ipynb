{
 "cells": [
  {
   "cell_type": "code",
   "execution_count": null,
   "id": "755d95c2",
   "metadata": {},
   "outputs": [],
   "source": [
    "import requests\n",
    "import json\n",
    "\n",
    "f = open(\"data/doi/ieee.txt\", \"r\")\n",
    "names = f.read().split(\"\\n\")\n",
    "f.close()\n",
    "\n",
    "data = []\n",
    "\n",
    "for name in names:\n",
    "    r = requests.get(\n",
    "        f'https://api.semanticscholar.org/graph/v1/paper/search/match?query={name}',\n",
    "        params={'fields': 'title,abstract,publicationDate'},\n",
    "    )\n",
    "    print(name, r)\n",
    "    data.append({\n",
    "        \"name\": name,\n",
    "        \"data\": r.text\n",
    "    })"
   ]
  },
  {
   "cell_type": "code",
   "execution_count": null,
   "id": "ebcec302",
   "metadata": {},
   "outputs": [],
   "source": [
    "import functions.fetch as fetch\n",
    "parsed_data = []\n",
    "\n",
    "for i in data:\n",
    "    if(not data):\n",
    "        continue\n",
    "    i['data'] = json.loads(i['data'])\n",
    "    i['data']['title'] = i['name']\n",
    "    parsed_data.append(i['data'])\n",
    "\n",
    "fetch.save(json.dumps(parsed_data), \"data/abstract/ieee.json\")"
   ]
  }
 ],
 "metadata": {
  "kernelspec": {
   "display_name": ".venv",
   "language": "python",
   "name": "python3"
  },
  "language_info": {
   "codemirror_mode": {
    "name": "ipython",
    "version": 3
   },
   "file_extension": ".py",
   "mimetype": "text/x-python",
   "name": "python",
   "nbconvert_exporter": "python",
   "pygments_lexer": "ipython3",
   "version": "3.13.1"
  }
 },
 "nbformat": 4,
 "nbformat_minor": 5
}
