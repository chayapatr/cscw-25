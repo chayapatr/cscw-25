{
 "cells": [
  {
   "cell_type": "code",
   "execution_count": 1,
   "metadata": {},
   "outputs": [],
   "source": [
    "import requests\n",
    "from bs4 import BeautifulSoup"
   ]
  },
  {
   "cell_type": "code",
   "execution_count": 2,
   "metadata": {},
   "outputs": [],
   "source": [
    "data = requests.get(\"https://dl.acm.org/action/doSearch?AllField=%22human-ai+interaction%22&startPage=0&pageSize=50\")"
   ]
  },
  {
   "cell_type": "code",
   "execution_count": 3,
   "metadata": {},
   "outputs": [],
   "source": [
    "soap = BeautifulSoup(data.text, 'html.parser')"
   ]
  },
  {
   "cell_type": "code",
   "execution_count": 4,
   "metadata": {},
   "outputs": [
    {
     "name": "stdout",
     "output_type": "stream",
     "text": [
      "HAID: Human-AI Interaction for Dementia Care 10.1145/3677045.3685469\n",
      "Theory of Mind in Human-AI Interaction 10.1145/3613905.3636308\n",
      "Assessing Human-AI Interaction Early through Factorial Surveys: A Study on the Guidelines for Human-AI Interaction 10.1145/3511605\n",
      "Spiritual AI: Exploring the Possibilities of a Human-AI Interaction Beyond Productive Goals 10.1145/3613905.3650743\n",
      "Development and translation of human-AI interaction models into working prototypes for clinical decision-making 10.1145/3643834.3660697\n",
      "Exploration of Explainable AI for Trust Development on Human-AI Interaction 10.1145/3639592.3639625\n",
      "Re-examining User Burden in Human-AI Interaction: Focusing on a Domain-Specific Approach 10.1145/3613905.3638186\n",
      "Past Meets Future: Human-AI Interaction for Digital History and Cultural Heritage 10.1145/3640544.3645257\n",
      "A Systematic Review on Fostering Appropriate Trust in Human-AI Interaction: Trends, Opportunities and Challenges 10.1145/3696449\n",
      "Human-AI interaction: intermittent, continuous, and proactive 10.1145/3486941\n",
      "Measuring User Experience Inclusivity in Human-AI Interaction via Five User Problem-Solving Styles 10.1145/3663740\n",
      "Designing for Human-AI Interaction: Comparing Intermittent, Continuous, and Proactive Interactions for a Music Application 10.1145/3613905.3650886\n",
      "\"Help Me Help the AI\": Understanding How Explainability Can Support Human-AI Interaction 10.1145/3544548.3581001\n",
      "Evaluating Interactive AI: Understanding and Controlling Placebo Effects in Human-AI Interaction 10.1145/3613905.3636304\n",
      "AI in Your Mind: Counterbalancing Perceived Agency and Experience in Human-AI Interaction 10.1145/3491101.3519833\n",
      "Guidelines for Human-AI Interaction 10.1145/3290605.3300233\n",
      "AI as a Child of Mother Earth: Regrounding Human-AI Interaction in Ecological Thinking 10.1145/3613905.3644065\n",
      "Playing with Dezgo: Adapting Human-AI Interaction to the Context of Play 10.1145/3582437.3587198\n",
      "Modelling Trust in Human-AI Interaction 10.5555/3463952.3464253\n",
      "Interfaces for Explanations in Human-AI Interaction: Proposing a Design Evaluation Approach 10.1145/3411763.3451759\n",
      "Trust in Human-AI Interaction: Scoping Out Models, Measures, and Methods 10.1145/3491101.3519772\n",
      "AI Chains: Transparent and Controllable Human-AI Interaction by Chaining Large Language Model Prompts 10.1145/3491102.3517582\n",
      "Societal-Scale Human-AI Interaction Design? How Hospitals and Companies are Integrating Pervasive Sensing into Mental Healthcare 10.1145/3613904.3642793\n",
      "Benefits of Human-AI Interaction for Expert Users Interacting with Prediction Models: a Study on Marathon Running 10.1145/3640543.3645205\n",
      "Effects of Communication Directionality and AI Agent Differences in Human-AI Interaction 10.1145/3411764.3445256\n",
      "UX Research on Conversational Human-AI Interaction: A Literature Review of the ACM Digital Library 10.1145/3491102.3501855\n",
      "Human-AI interaction and ethics of AI: how well are we following the guidelines 10.1145/3565698.3565773\n",
      "Interpretability as a dynamic of human-AI interaction 10.1145/3411286\n",
      "Forward Reasoning Decision Support: Toward a More Complete View of the Human-AI Interaction Design Space 10.1145/3464385.3464696\n",
      "Understanding User Perceptions, Collaborative Experience and User Engagement in Different Human-AI Interaction Designs for Co-Creative Systems 10.1145/3527927.3532789\n",
      "Towards Mutual Theory of Mind in Human-AI Interaction: How Language Reflects What Students Perceive About a Virtual Teaching Assistant 10.1145/3411764.3445645\n",
      "Re-examining Whether, Why, and How Human-AI Interaction Is Uniquely Difficult to Design 10.1145/3313831.3376301\n",
      "The Human in the Infinite Loop: A Case Study on Revealing and Explaining Human-AI Interaction Loop Failures 10.1145/3543758.3543761\n",
      "Towards fluid software architectures: bidirectional human-AI interaction 10.1109/ASE51524.2021.9678647\n",
      "How Should AI Systems Talk to Users when Collecting their Personal Information? Effects of Role Framing and Self-Referencing on Human-AI Interaction 10.1145/3411764.3445415\n",
      "Human-AI Interaction in Human Resource Management: Understanding Why Employees Resist Algorithmic Evaluation at Workplaces and How to Mitigate Burdens 10.1145/3411764.3445304\n",
      "Learning Action Conditions for Automatic Behavior Tree Generation from Human Demonstrations 10.1145/3610978.3640673\n",
      "(X)AI-SPOT: an (X)AI-Supported Production Process Optimization Tool 10.1145/3640544.3645235\n",
      "Designing AI with Metaphors: Leveraging Ambiguity and Defamiliarization to Support Design Creativity 10.1145/3635636.3664250\n",
      "My Voice as a Daily Reminder: Self-Voice Alarm for Daily Goal Achievement 10.1145/3613904.3641932\n",
      "An Evaluation of Situational Autonomy for Human-AI Collaboration in a Shared Workspace Setting 10.1145/3613904.3642564\n",
      "Create Effective and Responsible AI User Experiences with The Human-AI Experience (HAX) Toolkit 10.1145/3544549.3574191\n",
      "Evaluation Tools for Human-AI Interactions Involving Older Adults with Mild Cognitive Impairments 10.1145/3610977.3637474\n",
      "Understanding the Dynamics in Creating Domain-Specific AI Design Guidelines: A Case Study of a Leading Digital Finance Company in South Korea 10.1145/3613905.3650759\n",
      "The Metacognitive Demands and Opportunities of Generative AI 10.1145/3613904.3642902\n",
      "Intelligent User Interface for Decision Support in Drug Development 10.1145/3581754.3584107\n",
      "1-Hour Collaborative Learning Activity for Responsible Human-AI Design 10.1145/3519936\n",
      "Intelligence as Agency 10.1145/3672539.3695751\n",
      "Capturing Humans’ Mental Models of AI: An Item Response Theory Approach 10.1145/3593013.3594111\n",
      "Understanding Students’ Perspectives, Practices, and Challenges of Designing with AI in Special Schools 10.1145/3629606.3629625\n"
     ]
    }
   ],
   "source": [
    "def parseDoi(doi):\n",
    "    a = doi[5:]\n",
    "    if(a[0] == 'b'):\n",
    "        a = a[5:]\n",
    "    return a\n",
    "\n",
    "data = []\n",
    "for entry in soap.find_all(\"div\", attrs={\"class\": \"issue-item__content\"}):\n",
    "    # print(entry)\n",
    "    title = entry.find('h5', attrs={'class': 'issue-item__title'}).text\n",
    "    doi = parseDoi(entry.find('a')['href'])\n",
    "    # years = entry.find('div', attrs={'class': ['bookPubDate', 'simple-tooltip__block--b']})\n",
    "    print(title, doi)\n",
    "    data.append({\n",
    "       \"title\": title,\n",
    "       \"doi\": parseDoi(entry.a['href'])})"
   ]
  },
  {
   "cell_type": "code",
   "execution_count": 10,
   "metadata": {},
   "outputs": [],
   "source": [
    "def get_data_from_semantic_scholar(doi):\n",
    "    base_url = \"https://api.semanticscholar.org/v1/paper/\"\n",
    "    url = f\"{base_url}{doi}\"\n",
    "    headers = {\"Accept\": \"application/json\"}\n",
    "\n",
    "    try:\n",
    "        response = requests.get(url, headers=headers)\n",
    "        response.raise_for_status()\n",
    "        data = response.json()\n",
    "        \n",
    "        abstract = data.get('abstract')\n",
    "        year = data.get('year')\n",
    "        \n",
    "        if abstract:\n",
    "            return [abstract, year]\n",
    "        else:\n",
    "            return [\"\", year]\n",
    "    \n",
    "    except requests.exceptions.RequestException as e:\n",
    "        print(e)\n",
    "        return [\"error\", \"\"]"
   ]
  },
  {
   "cell_type": "code",
   "execution_count": 11,
   "metadata": {},
   "outputs": [
    {
     "name": "stdout",
     "output_type": "stream",
     "text": [
      "fetching HAID: Human-AI Interaction for Dementia Care\n",
      "fetching Theory of Mind in Human-AI Interaction\n",
      "fetching Assessing Human-AI Interaction Early through Factorial Surveys: A Study on the Guidelines for Human-AI Interaction\n",
      "fetching Spiritual AI: Exploring the Possibilities of a Human-AI Interaction Beyond Productive Goals\n",
      "fetching Development and translation of human-AI interaction models into working prototypes for clinical decision-making\n",
      "fetching Exploration of Explainable AI for Trust Development on Human-AI Interaction\n",
      "fetching Re-examining User Burden in Human-AI Interaction: Focusing on a Domain-Specific Approach\n",
      "fetching Past Meets Future: Human-AI Interaction for Digital History and Cultural Heritage\n",
      "fetching A Systematic Review on Fostering Appropriate Trust in Human-AI Interaction: Trends, Opportunities and Challenges\n",
      "fetching Human-AI interaction: intermittent, continuous, and proactive\n",
      "fetching Measuring User Experience Inclusivity in Human-AI Interaction via Five User Problem-Solving Styles\n",
      "fetching Designing for Human-AI Interaction: Comparing Intermittent, Continuous, and Proactive Interactions for a Music Application\n",
      "fetching \"Help Me Help the AI\": Understanding How Explainability Can Support Human-AI Interaction\n",
      "fetching Evaluating Interactive AI: Understanding and Controlling Placebo Effects in Human-AI Interaction\n",
      "fetching AI in Your Mind: Counterbalancing Perceived Agency and Experience in Human-AI Interaction\n",
      "fetching Guidelines for Human-AI Interaction\n",
      "fetching AI as a Child of Mother Earth: Regrounding Human-AI Interaction in Ecological Thinking\n",
      "fetching Playing with Dezgo: Adapting Human-AI Interaction to the Context of Play\n",
      "fetching Modelling Trust in Human-AI Interaction\n",
      "fetching Interfaces for Explanations in Human-AI Interaction: Proposing a Design Evaluation Approach\n",
      "fetching Trust in Human-AI Interaction: Scoping Out Models, Measures, and Methods\n",
      "fetching AI Chains: Transparent and Controllable Human-AI Interaction by Chaining Large Language Model Prompts\n",
      "fetching Societal-Scale Human-AI Interaction Design? How Hospitals and Companies are Integrating Pervasive Sensing into Mental Healthcare\n",
      "fetching Benefits of Human-AI Interaction for Expert Users Interacting with Prediction Models: a Study on Marathon Running\n",
      "fetching Effects of Communication Directionality and AI Agent Differences in Human-AI Interaction\n",
      "fetching UX Research on Conversational Human-AI Interaction: A Literature Review of the ACM Digital Library\n",
      "fetching Human-AI interaction and ethics of AI: how well are we following the guidelines\n",
      "fetching Interpretability as a dynamic of human-AI interaction\n",
      "fetching Forward Reasoning Decision Support: Toward a More Complete View of the Human-AI Interaction Design Space\n",
      "fetching Understanding User Perceptions, Collaborative Experience and User Engagement in Different Human-AI Interaction Designs for Co-Creative Systems\n",
      "fetching Towards Mutual Theory of Mind in Human-AI Interaction: How Language Reflects What Students Perceive About a Virtual Teaching Assistant\n",
      "fetching Re-examining Whether, Why, and How Human-AI Interaction Is Uniquely Difficult to Design\n",
      "fetching The Human in the Infinite Loop: A Case Study on Revealing and Explaining Human-AI Interaction Loop Failures\n",
      "fetching Towards fluid software architectures: bidirectional human-AI interaction\n",
      "fetching How Should AI Systems Talk to Users when Collecting their Personal Information? Effects of Role Framing and Self-Referencing on Human-AI Interaction\n",
      "fetching Human-AI Interaction in Human Resource Management: Understanding Why Employees Resist Algorithmic Evaluation at Workplaces and How to Mitigate Burdens\n",
      "fetching Learning Action Conditions for Automatic Behavior Tree Generation from Human Demonstrations\n",
      "fetching (X)AI-SPOT: an (X)AI-Supported Production Process Optimization Tool\n",
      "fetching Designing AI with Metaphors: Leveraging Ambiguity and Defamiliarization to Support Design Creativity\n",
      "fetching My Voice as a Daily Reminder: Self-Voice Alarm for Daily Goal Achievement\n",
      "fetching An Evaluation of Situational Autonomy for Human-AI Collaboration in a Shared Workspace Setting\n",
      "fetching Create Effective and Responsible AI User Experiences with The Human-AI Experience (HAX) Toolkit\n",
      "fetching Evaluation Tools for Human-AI Interactions Involving Older Adults with Mild Cognitive Impairments\n",
      "fetching Understanding the Dynamics in Creating Domain-Specific AI Design Guidelines: A Case Study of a Leading Digital Finance Company in South Korea\n",
      "fetching The Metacognitive Demands and Opportunities of Generative AI\n",
      "fetching Intelligent User Interface for Decision Support in Drug Development\n",
      "fetching 1-Hour Collaborative Learning Activity for Responsible Human-AI Design\n",
      "fetching Intelligence as Agency\n",
      "fetching Capturing Humans’ Mental Models of AI: An Item Response Theory Approach\n",
      "fetching Understanding Students’ Perspectives, Practices, and Challenges of Designing with AI in Special Schools\n"
     ]
    }
   ],
   "source": [
    "import pandas as pd\n",
    "\n",
    "df = pd.DataFrame()\n",
    "\n",
    "for entry in data:\n",
    "    fetched = get_data_from_semantic_scholar(entry[\"doi\"])\n",
    "    print(\"fetching\", entry[\"title\"])\n",
    "    if fetched[0] != \"error\":\n",
    "        df = df._append({\n",
    "            \"title\": entry[\"title\"],\n",
    "            \"year\": fetched[1],\n",
    "            \"doi\": entry[\"doi\"],\n",
    "            \"abstract\": fetched[0],\n",
    "        }, ignore_index=True)"
   ]
  },
  {
   "cell_type": "code",
   "execution_count": 13,
   "metadata": {},
   "outputs": [],
   "source": [
    "# save df to csv\n",
    "df.to_csv(\"acm.csv\")"
   ]
  }
 ],
 "metadata": {
  "kernelspec": {
   "display_name": ".venv",
   "language": "python",
   "name": "python3"
  },
  "language_info": {
   "codemirror_mode": {
    "name": "ipython",
    "version": 3
   },
   "file_extension": ".py",
   "mimetype": "text/x-python",
   "name": "python",
   "nbconvert_exporter": "python",
   "pygments_lexer": "ipython3",
   "version": "3.12.5"
  }
 },
 "nbformat": 4,
 "nbformat_minor": 2
}
